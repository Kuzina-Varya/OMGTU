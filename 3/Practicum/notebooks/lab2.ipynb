{
 "cells": [
  {
   "cell_type": "markdown",
   "id": "703bc3e8",
   "metadata": {},
   "source": [
    "# 0. <a id='toc0_'></a>Постановка задачи и окружение\n",
    "\n",
    "**Цель:** задача регрессии — предсказать значение коэффициента **«Гармония Бессмертия»**, отражающего стабильность портала.  \n",
    "**Данные:** `../data/portal_data.csv` (разделитель — `|`, кодировка — `cp1251`).  \n",
    "**Seed:** фиксирован для воспроизводимости.  \n",
    "\n",
    "---\n",
    "\n",
    "##  Оглавление\n",
    "\n",
    "1. [Обработка входных данных](#toc1_)\n",
    "   - 1.1 [Research](#toc1_1_)\n",
    "     - [Загрузка данных](#toc1_1_1_)\n",
    "     - [Анализ типов и значений](#toc1_1_2_)\n",
    "     - [Формирование train/test](#toc1_1_3_)\n",
    "2. [Бейзлайн-модель (Random Forest)](#toc2_)\n",
    "3. [Подбор гиперпараметров (Optuna)](#toc3_)\n",
    "4. [Остатки и интерпретация](#toc4_)\n",
    "5. [Выводы](#toc5_)\n"
   ]
  },
  {
   "cell_type": "code",
   "execution_count": 5,
   "id": "db34f7cd",
   "metadata": {},
   "outputs": [],
   "source": [
    "import warnings, random, os\n",
    "import numpy as np, pandas as pd\n",
    "import matplotlib.pyplot as plt\n",
    "import seaborn as sns\n",
    "\n",
    "from pathlib import Path\n",
    "from sklearn.model_selection import train_test_split\n",
    "from sklearn.ensemble import RandomForestRegressor\n",
    "from sklearn.metrics import r2_score, mean_absolute_error, mean_squared_error\n",
    "\n",
    "SEED = 42\n",
    "random.seed(SEED)\n",
    "np.random.seed(SEED)\n",
    "warnings.filterwarnings(\"ignore\")\n",
    "plt.rcParams[\"figure.figsize\"] = (6, 4)\n"
   ]
  },
  {
   "cell_type": "markdown",
   "id": "1ee7f0a4",
   "metadata": {},
   "source": [
    "# 1. <a id='toc1_'></a>Обработка входных данных  \n",
    "## 1.1. <a id='toc1_1_'></a>Research  \n",
    "### 1.1.1. <a id='toc1_1_1_'></a>Загрузка исходных данных\n"
   ]
  },
  {
   "cell_type": "code",
   "execution_count": 6,
   "id": "e31f4b08",
   "metadata": {},
   "outputs": [
    {
     "data": {
      "text/html": [
       "<div>\n",
       "<style scoped>\n",
       "    .dataframe tbody tr th:only-of-type {\n",
       "        vertical-align: middle;\n",
       "    }\n",
       "\n",
       "    .dataframe tbody tr th {\n",
       "        vertical-align: top;\n",
       "    }\n",
       "\n",
       "    .dataframe thead th {\n",
       "        text-align: right;\n",
       "    }\n",
       "</style>\n",
       "<table border=\"1\" class=\"dataframe\">\n",
       "  <thead>\n",
       "    <tr style=\"text-align: right;\">\n",
       "      <th></th>\n",
       "      <th>Вектор Мощи</th>\n",
       "      <th>Скорость перехода через портал</th>\n",
       "      <th>Приток Силы Потока</th>\n",
       "      <th>Ритм магического ядра</th>\n",
       "      <th>Поток Энергий</th>\n",
       "      <th>Сила Левого Потока</th>\n",
       "      <th>Сила Правого Потока</th>\n",
       "      <th>Пламя Стихий</th>\n",
       "      <th>Температура вдоха Истока</th>\n",
       "      <th>Температура выдоха Истока</th>\n",
       "      <th>Приток давления Выдоха Истока</th>\n",
       "      <th>Давление вдоха Истока</th>\n",
       "      <th>Давление выдоха Истока</th>\n",
       "      <th>Древний Ветер</th>\n",
       "      <th>Печать Чародея</th>\n",
       "      <th>Эмульсия Истока</th>\n",
       "      <th>Дыхание Истока</th>\n",
       "      <th>Гармония Бессмертия</th>\n",
       "      <th>Тип Вектора Мощи</th>\n",
       "      <th>Номер пометки</th>\n",
       "    </tr>\n",
       "  </thead>\n",
       "  <tbody>\n",
       "    <tr>\n",
       "      <th>0</th>\n",
       "      <td>1.138</td>\n",
       "      <td>1.54332</td>\n",
       "      <td>289.964</td>\n",
       "      <td>141.318158</td>\n",
       "      <td>6677.380</td>\n",
       "      <td>7.584</td>\n",
       "      <td>7.584</td>\n",
       "      <td>464.006</td>\n",
       "      <td>736</td>\n",
       "      <td>-</td>\n",
       "      <td>1.096</td>\n",
       "      <td>Не определено</td>\n",
       "      <td>5.947</td>\n",
       "      <td>-</td>\n",
       "      <td>7.137</td>\n",
       "      <td>0.082</td>\n",
       "      <td>0.95</td>\n",
       "      <td>0.975</td>\n",
       "      <td>Слабый</td>\n",
       "      <td>0</td>\n",
       "    </tr>\n",
       "    <tr>\n",
       "      <th>1</th>\n",
       "      <td>2.088</td>\n",
       "      <td>-</td>\n",
       "      <td>6960.180</td>\n",
       "      <td>144.111767</td>\n",
       "      <td>6828.469</td>\n",
       "      <td>28.204</td>\n",
       "      <td>28.204</td>\n",
       "      <td>635.401</td>\n",
       "      <td>736</td>\n",
       "      <td>581.658</td>\n",
       "      <td>1.331</td>\n",
       "      <td>1.394603</td>\n",
       "      <td>7.282</td>\n",
       "      <td>1.019</td>\n",
       "      <td>10.655</td>\n",
       "      <td>0.287</td>\n",
       "      <td>0.95</td>\n",
       "      <td>0.975</td>\n",
       "      <td>Слабый</td>\n",
       "      <td>1</td>\n",
       "    </tr>\n",
       "    <tr>\n",
       "      <th>2</th>\n",
       "      <td>3.144</td>\n",
       "      <td>4.6299600000000005</td>\n",
       "      <td>8379.229</td>\n",
       "      <td>145.220853</td>\n",
       "      <td>7111.811</td>\n",
       "      <td>60.358</td>\n",
       "      <td>60.358</td>\n",
       "      <td>606.002</td>\n",
       "      <td>736</td>\n",
       "      <td>-</td>\n",
       "      <td>1.389</td>\n",
       "      <td>Не определено</td>\n",
       "      <td>7.574</td>\n",
       "      <td>-</td>\n",
       "      <td>13.086</td>\n",
       "      <td>0.259</td>\n",
       "      <td>0.95</td>\n",
       "      <td>0.975</td>\n",
       "      <td>Ниже среднего</td>\n",
       "      <td>2</td>\n",
       "    </tr>\n",
       "    <tr>\n",
       "      <th>3</th>\n",
       "      <td>4.161</td>\n",
       "      <td>6.17328</td>\n",
       "      <td>14724.395</td>\n",
       "      <td>162.050156</td>\n",
       "      <td>7792.630</td>\n",
       "      <td>113.774</td>\n",
       "      <td>113.774</td>\n",
       "      <td>661.471</td>\n",
       "      <td>736</td>\n",
       "      <td>-</td>\n",
       "      <td>1.658</td>\n",
       "      <td>Не определено</td>\n",
       "      <td>9.007</td>\n",
       "      <td>-</td>\n",
       "      <td>18.109</td>\n",
       "      <td>0.358</td>\n",
       "      <td>0.95</td>\n",
       "      <td>0.975</td>\n",
       "      <td>Ниже среднего</td>\n",
       "      <td>3</td>\n",
       "    </tr>\n",
       "    <tr>\n",
       "      <th>4</th>\n",
       "      <td>5.140</td>\n",
       "      <td>7.7166</td>\n",
       "      <td>21636.432</td>\n",
       "      <td>201.513586</td>\n",
       "      <td>8494.777</td>\n",
       "      <td>175.306</td>\n",
       "      <td>175.306</td>\n",
       "      <td>731.494</td>\n",
       "      <td>736</td>\n",
       "      <td>645.642</td>\n",
       "      <td>2.078</td>\n",
       "      <td>Не определено</td>\n",
       "      <td>11.197</td>\n",
       "      <td>1.026</td>\n",
       "      <td>26.373</td>\n",
       "      <td>0.522</td>\n",
       "      <td>0.95</td>\n",
       "      <td>0.975</td>\n",
       "      <td>Выше среднего</td>\n",
       "      <td>4</td>\n",
       "    </tr>\n",
       "  </tbody>\n",
       "</table>\n",
       "</div>"
      ],
      "text/plain": [
       "   Вектор Мощи Скорость перехода через портал  Приток Силы Потока  \\\n",
       "0        1.138                        1.54332             289.964   \n",
       "1        2.088                              -            6960.180   \n",
       "2        3.144             4.6299600000000005            8379.229   \n",
       "3        4.161                        6.17328           14724.395   \n",
       "4        5.140                         7.7166           21636.432   \n",
       "\n",
       "   Ритм магического ядра  Поток Энергий  Сила Левого Потока  \\\n",
       "0             141.318158       6677.380               7.584   \n",
       "1             144.111767       6828.469              28.204   \n",
       "2             145.220853       7111.811              60.358   \n",
       "3             162.050156       7792.630             113.774   \n",
       "4             201.513586       8494.777             175.306   \n",
       "\n",
       "   Сила Правого Потока  Пламя Стихий  Температура вдоха Истока  \\\n",
       "0                7.584       464.006                       736   \n",
       "1               28.204       635.401                       736   \n",
       "2               60.358       606.002                       736   \n",
       "3              113.774       661.471                       736   \n",
       "4              175.306       731.494                       736   \n",
       "\n",
       "  Температура выдоха Истока  Приток давления Выдоха Истока  \\\n",
       "0                         -                          1.096   \n",
       "1                   581.658                          1.331   \n",
       "2                         -                          1.389   \n",
       "3                         -                          1.658   \n",
       "4                   645.642                          2.078   \n",
       "\n",
       "  Давление вдоха Истока  Давление выдоха Истока Древний Ветер  Печать Чародея  \\\n",
       "0         Не определено                   5.947             -           7.137   \n",
       "1              1.394603                   7.282         1.019          10.655   \n",
       "2         Не определено                   7.574             -          13.086   \n",
       "3         Не определено                   9.007             -          18.109   \n",
       "4         Не определено                  11.197         1.026          26.373   \n",
       "\n",
       "   Эмульсия Истока  Дыхание Истока  Гармония Бессмертия Тип Вектора Мощи  \\\n",
       "0            0.082            0.95                0.975           Слабый   \n",
       "1            0.287            0.95                0.975           Слабый   \n",
       "2            0.259            0.95                0.975    Ниже среднего   \n",
       "3            0.358            0.95                0.975    Ниже среднего   \n",
       "4            0.522            0.95                0.975    Выше среднего   \n",
       "\n",
       "   Номер пометки  \n",
       "0              0  \n",
       "1              1  \n",
       "2              2  \n",
       "3              3  \n",
       "4              4  "
      ]
     },
     "execution_count": 6,
     "metadata": {},
     "output_type": "execute_result"
    }
   ],
   "source": [
    "DATA = Path(\"../data/portal_data.csv\")\n",
    "df = pd.read_csv(DATA, sep=\"|\", encoding=\"cp1251\")\n",
    "df.head()\n"
   ]
  },
  {
   "cell_type": "markdown",
   "id": "5be0ee7e",
   "metadata": {},
   "source": [
    "### 1.1.2. <a id='toc1_1_2_'></a>Анализ типов и значений признаков\n"
   ]
  },
  {
   "cell_type": "code",
   "execution_count": 7,
   "id": "888db483",
   "metadata": {},
   "outputs": [
    {
     "name": "stdout",
     "output_type": "stream",
     "text": [
      "<class 'pandas.core.frame.DataFrame'>\n",
      "RangeIndex: 11934 entries, 0 to 11933\n",
      "Data columns (total 20 columns):\n",
      " #   Column                          Non-Null Count  Dtype  \n",
      "---  ------                          --------------  -----  \n",
      " 0   Вектор Мощи                     11934 non-null  float64\n",
      " 1   Скорость перехода через портал  11934 non-null  object \n",
      " 2   Приток Силы Потока              11934 non-null  float64\n",
      " 3   Ритм магического ядра           11934 non-null  float64\n",
      " 4   Поток Энергий                   11934 non-null  float64\n",
      " 5   Сила Левого Потока              11934 non-null  float64\n",
      " 6   Сила Правого Потока             11934 non-null  float64\n",
      " 7   Пламя Стихий                    11934 non-null  float64\n",
      " 8   Температура вдоха Истока        11934 non-null  int64  \n",
      " 9   Температура выдоха Истока       11934 non-null  object \n",
      " 10  Приток давления Выдоха Истока   11934 non-null  float64\n",
      " 11  Давление вдоха Истока           11934 non-null  object \n",
      " 12  Давление выдоха Истока          11934 non-null  float64\n",
      " 13  Древний Ветер                   11934 non-null  object \n",
      " 14  Печать Чародея                  11934 non-null  float64\n",
      " 15  Эмульсия Истока                 11934 non-null  float64\n",
      " 16  Дыхание Истока                  11934 non-null  float64\n",
      " 17  Гармония Бессмертия             11934 non-null  float64\n",
      " 18  Тип Вектора Мощи                11934 non-null  object \n",
      " 19  Номер пометки                   11934 non-null  int64  \n",
      "dtypes: float64(13), int64(2), object(5)\n",
      "memory usage: 1.8+ MB\n"
     ]
    },
    {
     "data": {
      "text/html": [
       "<div>\n",
       "<style scoped>\n",
       "    .dataframe tbody tr th:only-of-type {\n",
       "        vertical-align: middle;\n",
       "    }\n",
       "\n",
       "    .dataframe tbody tr th {\n",
       "        vertical-align: top;\n",
       "    }\n",
       "\n",
       "    .dataframe thead th {\n",
       "        text-align: right;\n",
       "    }\n",
       "</style>\n",
       "<table border=\"1\" class=\"dataframe\">\n",
       "  <thead>\n",
       "    <tr style=\"text-align: right;\">\n",
       "      <th></th>\n",
       "      <th>count</th>\n",
       "      <th>unique</th>\n",
       "      <th>top</th>\n",
       "      <th>freq</th>\n",
       "      <th>mean</th>\n",
       "      <th>std</th>\n",
       "      <th>min</th>\n",
       "      <th>25%</th>\n",
       "      <th>50%</th>\n",
       "      <th>75%</th>\n",
       "      <th>max</th>\n",
       "    </tr>\n",
       "  </thead>\n",
       "  <tbody>\n",
       "    <tr>\n",
       "      <th>Вектор Мощи</th>\n",
       "      <td>11934.0</td>\n",
       "      <td>NaN</td>\n",
       "      <td>NaN</td>\n",
       "      <td>NaN</td>\n",
       "      <td>5.166667</td>\n",
       "      <td>2.626388</td>\n",
       "      <td>1.138</td>\n",
       "      <td>3.144</td>\n",
       "      <td>5.14</td>\n",
       "      <td>7.148</td>\n",
       "      <td>9.3</td>\n",
       "    </tr>\n",
       "    <tr>\n",
       "      <th>Скорость перехода через портал</th>\n",
       "      <td>11934</td>\n",
       "      <td>10</td>\n",
       "      <td>12.34656</td>\n",
       "      <td>1204</td>\n",
       "      <td>NaN</td>\n",
       "      <td>NaN</td>\n",
       "      <td>NaN</td>\n",
       "      <td>NaN</td>\n",
       "      <td>NaN</td>\n",
       "      <td>NaN</td>\n",
       "      <td>NaN</td>\n",
       "    </tr>\n",
       "    <tr>\n",
       "      <th>Приток Силы Потока</th>\n",
       "      <td>11934.0</td>\n",
       "      <td>NaN</td>\n",
       "      <td>NaN</td>\n",
       "      <td>NaN</td>\n",
       "      <td>27247.498685</td>\n",
       "      <td>22148.613155</td>\n",
       "      <td>253.547</td>\n",
       "      <td>8375.88375</td>\n",
       "      <td>21630.659</td>\n",
       "      <td>39001.42675</td>\n",
       "      <td>72784.872</td>\n",
       "    </tr>\n",
       "    <tr>\n",
       "      <th>Ритм магического ядра</th>\n",
       "      <td>11934.0</td>\n",
       "      <td>NaN</td>\n",
       "      <td>NaN</td>\n",
       "      <td>NaN</td>\n",
       "      <td>223.711688</td>\n",
       "      <td>81.061874</td>\n",
       "      <td>136.939406</td>\n",
       "      <td>145.220958</td>\n",
       "      <td>201.514947</td>\n",
       "      <td>280.447777</td>\n",
       "      <td>372.879926</td>\n",
       "    </tr>\n",
       "    <tr>\n",
       "      <th>Поток Энергий</th>\n",
       "      <td>11934.0</td>\n",
       "      <td>NaN</td>\n",
       "      <td>NaN</td>\n",
       "      <td>NaN</td>\n",
       "      <td>8200.947312</td>\n",
       "      <td>1091.315507</td>\n",
       "      <td>6589.002</td>\n",
       "      <td>7058.324</td>\n",
       "      <td>8482.0815</td>\n",
       "      <td>9132.606</td>\n",
       "      <td>9797.103</td>\n",
       "    </tr>\n",
       "  </tbody>\n",
       "</table>\n",
       "</div>"
      ],
      "text/plain": [
       "                                  count unique       top  freq          mean  \\\n",
       "Вектор Мощи                     11934.0    NaN       NaN   NaN      5.166667   \n",
       "Скорость перехода через портал    11934     10  12.34656  1204           NaN   \n",
       "Приток Силы Потока              11934.0    NaN       NaN   NaN  27247.498685   \n",
       "Ритм магического ядра           11934.0    NaN       NaN   NaN    223.711688   \n",
       "Поток Энергий                   11934.0    NaN       NaN   NaN   8200.947312   \n",
       "\n",
       "                                         std         min         25%  \\\n",
       "Вектор Мощи                         2.626388       1.138       3.144   \n",
       "Скорость перехода через портал           NaN         NaN         NaN   \n",
       "Приток Силы Потока              22148.613155     253.547  8375.88375   \n",
       "Ритм магического ядра              81.061874  136.939406  145.220958   \n",
       "Поток Энергий                    1091.315507    6589.002    7058.324   \n",
       "\n",
       "                                       50%          75%         max  \n",
       "Вектор Мощи                           5.14        7.148         9.3  \n",
       "Скорость перехода через портал         NaN          NaN         NaN  \n",
       "Приток Силы Потока               21630.659  39001.42675   72784.872  \n",
       "Ритм магического ядра           201.514947   280.447777  372.879926  \n",
       "Поток Энергий                    8482.0815     9132.606    9797.103  "
      ]
     },
     "execution_count": 7,
     "metadata": {},
     "output_type": "execute_result"
    }
   ],
   "source": [
    "df.info()\n",
    "df.describe(include='all').T.head()\n",
    "\n"
   ]
  },
  {
   "cell_type": "code",
   "execution_count": 8,
   "id": "583dea68",
   "metadata": {},
   "outputs": [],
   "source": [
    "import numpy as np\n",
    "\n",
    "# заменяем текстовые \"пропуски\" на NaN\n",
    "df = df.replace({\"-\": np.nan, \"Не определено\": np.nan})\n",
    "\n",
    "# колонки, где числа записаны как строки\n",
    "num_obj_cols = [\n",
    "    \"Скорость перехода через портал\",\n",
    "    \"Температура выдоха Истока\",\n",
    "    \"Приток давления Выдоха Истока\",\n",
    "    \"Давление вдоха Истока\",\n",
    "    \"Древний Ветер\"\n",
    "]\n",
    "\n",
    "# приводим их к float\n",
    "for c in num_obj_cols:\n",
    "    df[c] = df[c].astype(str).str.replace(\",\", \".\").astype(float)\n",
    "\n",
    "# удаляем служебный идентификатор\n",
    "df.drop(columns=[\"Номер пометки\"], inplace=True)\n"
   ]
  },
  {
   "cell_type": "code",
   "execution_count": 9,
   "id": "f8772cdd",
   "metadata": {},
   "outputs": [
    {
     "data": {
      "text/plain": [
       "Температура выдоха Истока         80.00\n",
       "Древний Ветер                     80.00\n",
       "Давление вдоха Истока             79.56\n",
       "Скорость перехода через портал    10.08\n",
       "dtype: float64"
      ]
     },
     "execution_count": 9,
     "metadata": {},
     "output_type": "execute_result"
    }
   ],
   "source": [
    "missing = (df.isna().sum() / len(df) * 100).round(2)\n",
    "missing[missing > 0].sort_values(ascending=False)\n"
   ]
  },
  {
   "cell_type": "markdown",
   "id": "9b66e9e5",
   "metadata": {},
   "source": [
    "### 1.1.3. <a id='toc1_1_3_'></a>Формирование обучающей и тестовой выборок\n"
   ]
  },
  {
   "cell_type": "code",
   "execution_count": 10,
   "id": "c960b8b2",
   "metadata": {},
   "outputs": [
    {
     "data": {
      "text/plain": [
       "((9547, 20), (2387, 20))"
      ]
     },
     "execution_count": 10,
     "metadata": {},
     "output_type": "execute_result"
    }
   ],
   "source": [
    "target = \"Гармония Бессмертия\"\n",
    "cat_col = \"Тип Вектора Мощи\"\n",
    "\n",
    "X = df.drop(columns=[target])\n",
    "y = df[target]\n",
    "\n",
    "# кодируем категориальный признак\n",
    "X = pd.get_dummies(X, columns=[cat_col], drop_first=True)\n",
    "\n",
    "X_train, X_test, y_train, y_test = train_test_split(\n",
    "    X, y, test_size=0.2, random_state=SEED\n",
    ")\n",
    "\n",
    "X_train.shape, X_test.shape\n"
   ]
  },
  {
   "cell_type": "markdown",
   "id": "f62e043e",
   "metadata": {},
   "source": [
    "# 2. <a id='toc2_'></a>Бейзлайн-модель (Random Forest)\n"
   ]
  },
  {
   "cell_type": "code",
   "execution_count": 11,
   "id": "9847b570",
   "metadata": {},
   "outputs": [
    {
     "name": "stdout",
     "output_type": "stream",
     "text": [
      "Baseline RF — R²=0.995 | MAE=0.000 | RMSE=0.001\n"
     ]
    }
   ],
   "source": [
    "rf = RandomForestRegressor(n_estimators=200, random_state=SEED, n_jobs=-1)\n",
    "rf.fit(X_train, y_train)\n",
    "\n",
    "pred = rf.predict(X_test)\n",
    "r2  = r2_score(y_test, pred)\n",
    "mae = mean_absolute_error(y_test, pred)\n",
    "rmse = mean_squared_error(y_test, pred, squared=False)\n",
    "\n",
    "print(f\"Baseline RF — R²={r2:.3f} | MAE={mae:.3f} | RMSE={rmse:.3f}\")\n"
   ]
  },
  {
   "cell_type": "markdown",
   "id": "816079b5",
   "metadata": {},
   "source": [
    "# 3. <a id='toc3_'></a>Подбор гиперпараметров (Optuna)\n"
   ]
  },
  {
   "cell_type": "code",
   "execution_count": 12,
   "id": "c72941eb",
   "metadata": {},
   "outputs": [
    {
     "name": "stderr",
     "output_type": "stream",
     "text": [
      "[I 2025-10-21 09:24:10,315] A new study created in memory with name: rf_portal\n"
     ]
    },
    {
     "data": {
      "application/vnd.jupyter.widget-view+json": {
       "model_id": "7a8dec74edb74bbcbf24cf3161ebf0d3",
       "version_major": 2,
       "version_minor": 0
      },
      "text/plain": [
       "  0%|          | 0/40 [00:00<?, ?it/s]"
      ]
     },
     "metadata": {},
     "output_type": "display_data"
    },
    {
     "name": "stdout",
     "output_type": "stream",
     "text": [
      "[I 2025-10-21 09:24:19,236] Trial 0 finished with value: 0.9863888929563228 and parameters: {'n_estimators': 303, 'max_depth': 28, 'min_samples_split': 10, 'min_samples_leaf': 8, 'max_features': None, 'bootstrap': True}. Best is trial 0 with value: 0.9863888929563228.\n",
      "[I 2025-10-21 09:24:26,172] Trial 1 finished with value: 0.9688660219650984 and parameters: {'n_estimators': 152, 'max_depth': 28, 'min_samples_split': 17, 'min_samples_leaf': 1, 'max_features': None, 'bootstrap': False}. Best is trial 0 with value: 0.9863888929563228.\n",
      "[I 2025-10-21 09:24:46,983] Trial 2 finished with value: 0.9630681993689787 and parameters: {'n_estimators': 385, 'max_depth': None, 'min_samples_split': 2, 'min_samples_leaf': 10, 'max_features': None, 'bootstrap': False}. Best is trial 0 with value: 0.9863888929563228.\n",
      "[I 2025-10-21 09:24:50,081] Trial 3 finished with value: 0.9773203397629718 and parameters: {'n_estimators': 228, 'max_depth': 28, 'min_samples_split': 16, 'min_samples_leaf': 7, 'max_features': 'log2', 'bootstrap': False}. Best is trial 0 with value: 0.9863888929563228.\n",
      "[I 2025-10-21 09:24:55,271] Trial 4 finished with value: 0.9723700836797181 and parameters: {'n_estimators': 563, 'max_depth': None, 'min_samples_split': 7, 'min_samples_leaf': 6, 'max_features': 'log2', 'bootstrap': True}. Best is trial 0 with value: 0.9863888929563228.\n",
      "[I 2025-10-21 09:25:22,486] Trial 5 finished with value: 0.9663786003881388 and parameters: {'n_estimators': 558, 'max_depth': 22, 'min_samples_split': 16, 'min_samples_leaf': 8, 'max_features': None, 'bootstrap': False}. Best is trial 0 with value: 0.9863888929563228.\n",
      "[I 2025-10-21 09:25:40,448] Trial 6 finished with value: 0.9652607019129462 and parameters: {'n_estimators': 399, 'max_depth': 28, 'min_samples_split': 12, 'min_samples_leaf': 9, 'max_features': None, 'bootstrap': False}. Best is trial 0 with value: 0.9863888929563228.\n",
      "[I 2025-10-21 09:26:03,912] Trial 7 finished with value: 0.9653254662466997 and parameters: {'n_estimators': 527, 'max_depth': 22, 'min_samples_split': 18, 'min_samples_leaf': 8, 'max_features': None, 'bootstrap': False}. Best is trial 0 with value: 0.9863888929563228.\n",
      "[I 2025-10-21 09:26:06,461] Trial 8 finished with value: 0.9630095129591402 and parameters: {'n_estimators': 263, 'max_depth': 22, 'min_samples_split': 15, 'min_samples_leaf': 3, 'max_features': 'log2', 'bootstrap': True}. Best is trial 0 with value: 0.9863888929563228.\n",
      "[I 2025-10-21 09:26:08,363] Trial 9 finished with value: 0.887137650852276 and parameters: {'n_estimators': 219, 'max_depth': 16, 'min_samples_split': 12, 'min_samples_leaf': 4, 'max_features': 'sqrt', 'bootstrap': True}. Best is trial 0 with value: 0.9863888929563228.\n",
      "[I 2025-10-21 09:26:10,566] Trial 10 finished with value: 0.6412359770886684 and parameters: {'n_estimators': 322, 'max_depth': 10, 'min_samples_split': 7, 'min_samples_leaf': 5, 'max_features': 'sqrt', 'bootstrap': True}. Best is trial 0 with value: 0.9863888929563228.\n",
      "[I 2025-10-21 09:26:13,290] Trial 11 finished with value: 0.9644322151541787 and parameters: {'n_estimators': 288, 'max_depth': 28, 'min_samples_split': 20, 'min_samples_leaf': 7, 'max_features': 'log2', 'bootstrap': True}. Best is trial 0 with value: 0.9863888929563228.\n",
      "[I 2025-10-21 09:26:15,778] Trial 12 finished with value: 0.9777108092074254 and parameters: {'n_estimators': 177, 'max_depth': 28, 'min_samples_split': 9, 'min_samples_leaf': 7, 'max_features': 'log2', 'bootstrap': False}. Best is trial 0 with value: 0.9863888929563228.\n",
      "[I 2025-10-21 09:26:17,418] Trial 13 finished with value: 0.9596920023569053 and parameters: {'n_estimators': 172, 'max_depth': 28, 'min_samples_split': 8, 'min_samples_leaf': 10, 'max_features': 'log2', 'bootstrap': True}. Best is trial 0 with value: 0.9863888929563228.\n",
      "[I 2025-10-21 09:26:22,914] Trial 14 finished with value: 0.8888473918022822 and parameters: {'n_estimators': 469, 'max_depth': 16, 'min_samples_split': 10, 'min_samples_leaf': 6, 'max_features': 'sqrt', 'bootstrap': False}. Best is trial 0 with value: 0.9863888929563228.\n",
      "[I 2025-10-21 09:26:31,025] Trial 15 finished with value: 0.8069294081111777 and parameters: {'n_estimators': 337, 'max_depth': 10, 'min_samples_split': 4, 'min_samples_leaf': 8, 'max_features': None, 'bootstrap': True}. Best is trial 0 with value: 0.9863888929563228.\n",
      "[I 2025-10-21 09:26:33,982] Trial 16 finished with value: 0.9825705652619904 and parameters: {'n_estimators': 212, 'max_depth': 28, 'min_samples_split': 10, 'min_samples_leaf': 5, 'max_features': 'log2', 'bootstrap': False}. Best is trial 0 with value: 0.9863888929563228.\n",
      "[I 2025-10-21 09:26:48,944] Trial 17 finished with value: 0.9901968240814991 and parameters: {'n_estimators': 442, 'max_depth': 28, 'min_samples_split': 13, 'min_samples_leaf': 3, 'max_features': None, 'bootstrap': True}. Best is trial 17 with value: 0.9901968240814991.\n",
      "[I 2025-10-21 09:27:03,449] Trial 18 finished with value: 0.989829750516301 and parameters: {'n_estimators': 453, 'max_depth': 28, 'min_samples_split': 14, 'min_samples_leaf': 2, 'max_features': None, 'bootstrap': True}. Best is trial 17 with value: 0.9901968240814991.\n",
      "[I 2025-10-21 09:27:17,417] Trial 19 finished with value: 0.9736055575942196 and parameters: {'n_estimators': 442, 'max_depth': 16, 'min_samples_split': 14, 'min_samples_leaf': 1, 'max_features': None, 'bootstrap': True}. Best is trial 17 with value: 0.9901968240814991.\n",
      "[I 2025-10-21 09:27:33,747] Trial 20 finished with value: 0.9901384446533366 and parameters: {'n_estimators': 460, 'max_depth': None, 'min_samples_split': 13, 'min_samples_leaf': 3, 'max_features': None, 'bootstrap': True}. Best is trial 17 with value: 0.9901968240814991.\n",
      "[I 2025-10-21 09:27:49,962] Trial 21 finished with value: 0.9901707114669233 and parameters: {'n_estimators': 497, 'max_depth': None, 'min_samples_split': 13, 'min_samples_leaf': 3, 'max_features': None, 'bootstrap': True}. Best is trial 17 with value: 0.9901968240814991.\n",
      "[I 2025-10-21 09:28:05,857] Trial 22 finished with value: 0.9901782741700175 and parameters: {'n_estimators': 504, 'max_depth': None, 'min_samples_split': 13, 'min_samples_leaf': 3, 'max_features': None, 'bootstrap': True}. Best is trial 17 with value: 0.9901968240814991.\n",
      "[I 2025-10-21 09:28:22,496] Trial 23 finished with value: 0.9906939685659113 and parameters: {'n_estimators': 505, 'max_depth': None, 'min_samples_split': 12, 'min_samples_leaf': 3, 'max_features': None, 'bootstrap': True}. Best is trial 23 with value: 0.9906939685659113.\n",
      "[I 2025-10-21 09:28:42,234] Trial 24 finished with value: 0.9909483569955049 and parameters: {'n_estimators': 589, 'max_depth': None, 'min_samples_split': 11, 'min_samples_leaf': 4, 'max_features': None, 'bootstrap': True}. Best is trial 24 with value: 0.9909483569955049.\n",
      "[I 2025-10-21 09:29:01,918] Trial 25 finished with value: 0.9909569840782442 and parameters: {'n_estimators': 596, 'max_depth': None, 'min_samples_split': 11, 'min_samples_leaf': 4, 'max_features': None, 'bootstrap': True}. Best is trial 25 with value: 0.9909569840782442.\n",
      "[I 2025-10-21 09:29:07,661] Trial 26 finished with value: 0.9790091276017774 and parameters: {'n_estimators': 599, 'max_depth': None, 'min_samples_split': 8, 'min_samples_leaf': 4, 'max_features': 'sqrt', 'bootstrap': True}. Best is trial 25 with value: 0.9909569840782442.\n",
      "[I 2025-10-21 09:29:27,510] Trial 27 finished with value: 0.9921813074575694 and parameters: {'n_estimators': 590, 'max_depth': None, 'min_samples_split': 5, 'min_samples_leaf': 4, 'max_features': None, 'bootstrap': True}. Best is trial 27 with value: 0.9921813074575694.\n",
      "[I 2025-10-21 09:29:47,185] Trial 28 finished with value: 0.9921635835661166 and parameters: {'n_estimators': 584, 'max_depth': None, 'min_samples_split': 5, 'min_samples_leaf': 4, 'max_features': None, 'bootstrap': True}. Best is trial 27 with value: 0.9921813074575694.\n",
      "[I 2025-10-21 09:30:04,458] Trial 29 finished with value: 0.9908696475200307 and parameters: {'n_estimators': 552, 'max_depth': None, 'min_samples_split': 4, 'min_samples_leaf': 5, 'max_features': None, 'bootstrap': True}. Best is trial 27 with value: 0.9921813074575694.\n",
      "[I 2025-10-21 09:30:24,553] Trial 30 finished with value: 0.9921739215182894 and parameters: {'n_estimators': 575, 'max_depth': None, 'min_samples_split': 5, 'min_samples_leaf': 4, 'max_features': None, 'bootstrap': True}. Best is trial 27 with value: 0.9921813074575694.\n",
      "[I 2025-10-21 09:30:44,107] Trial 31 finished with value: 0.9921758405773824 and parameters: {'n_estimators': 571, 'max_depth': None, 'min_samples_split': 5, 'min_samples_leaf': 4, 'max_features': None, 'bootstrap': True}. Best is trial 27 with value: 0.9921813074575694.\n",
      "[I 2025-10-21 09:31:02,562] Trial 32 finished with value: 0.993974844725552 and parameters: {'n_estimators': 540, 'max_depth': None, 'min_samples_split': 5, 'min_samples_leaf': 2, 'max_features': None, 'bootstrap': True}. Best is trial 32 with value: 0.993974844725552.\n",
      "[I 2025-10-21 09:31:21,875] Trial 33 finished with value: 0.9942074424634284 and parameters: {'n_estimators': 533, 'max_depth': None, 'min_samples_split': 2, 'min_samples_leaf': 2, 'max_features': None, 'bootstrap': True}. Best is trial 33 with value: 0.9942074424634284.\n",
      "[I 2025-10-21 09:31:42,466] Trial 34 finished with value: 0.9948225592299743 and parameters: {'n_estimators': 534, 'max_depth': None, 'min_samples_split': 2, 'min_samples_leaf': 1, 'max_features': None, 'bootstrap': True}. Best is trial 34 with value: 0.9948225592299743.\n",
      "[I 2025-10-21 09:32:01,866] Trial 35 finished with value: 0.9948190732568528 and parameters: {'n_estimators': 538, 'max_depth': None, 'min_samples_split': 2, 'min_samples_leaf': 1, 'max_features': None, 'bootstrap': True}. Best is trial 34 with value: 0.9948225592299743.\n",
      "[I 2025-10-21 09:32:12,249] Trial 36 finished with value: 0.8062696417276906 and parameters: {'n_estimators': 418, 'max_depth': 10, 'min_samples_split': 2, 'min_samples_leaf': 2, 'max_features': None, 'bootstrap': True}. Best is trial 34 with value: 0.9948225592299743.\n",
      "[I 2025-10-21 09:32:32,529] Trial 37 finished with value: 0.9948219196385806 and parameters: {'n_estimators': 537, 'max_depth': None, 'min_samples_split': 2, 'min_samples_leaf': 1, 'max_features': None, 'bootstrap': True}. Best is trial 34 with value: 0.9948225592299743.\n",
      "[I 2025-10-21 09:32:37,883] Trial 38 finished with value: 0.9876844693337342 and parameters: {'n_estimators': 482, 'max_depth': None, 'min_samples_split': 2, 'min_samples_leaf': 1, 'max_features': 'sqrt', 'bootstrap': True}. Best is trial 34 with value: 0.9948225592299743.\n",
      "[I 2025-10-21 09:32:57,926] Trial 39 finished with value: 0.9943212449331478 and parameters: {'n_estimators': 526, 'max_depth': 22, 'min_samples_split': 2, 'min_samples_leaf': 1, 'max_features': None, 'bootstrap': True}. Best is trial 34 with value: 0.9948225592299743.\n"
     ]
    },
    {
     "data": {
      "text/plain": [
       "{'n_estimators': 534,\n",
       " 'max_depth': None,\n",
       " 'min_samples_split': 2,\n",
       " 'min_samples_leaf': 1,\n",
       " 'max_features': None,\n",
       " 'bootstrap': True,\n",
       " 'random_state': 42,\n",
       " 'n_jobs': -1}"
      ]
     },
     "execution_count": 12,
     "metadata": {},
     "output_type": "execute_result"
    }
   ],
   "source": [
    "import optuna\n",
    "\n",
    "def objective(trial):\n",
    "    params = dict(\n",
    "        n_estimators = trial.suggest_int(\"n_estimators\", 150, 600),\n",
    "        max_depth = trial.suggest_categorical(\"max_depth\", [None, 10, 16, 22, 28]),\n",
    "        min_samples_split = trial.suggest_int(\"min_samples_split\", 2, 20),\n",
    "        min_samples_leaf = trial.suggest_int(\"min_samples_leaf\", 1, 10),\n",
    "        max_features = trial.suggest_categorical(\"max_features\", [\"sqrt\", \"log2\", None]),\n",
    "        bootstrap = trial.suggest_categorical(\"bootstrap\", [True, False]),\n",
    "        random_state = SEED, n_jobs = -1\n",
    "    )\n",
    "    model = RandomForestRegressor(**params)\n",
    "    model.fit(X_train, y_train)\n",
    "    pred = model.predict(X_test)\n",
    "    return r2_score(y_test, pred)\n",
    "\n",
    "study = optuna.create_study(direction=\"maximize\", study_name=\"rf_portal\")\n",
    "study.optimize(objective, n_trials=40, show_progress_bar=True)\n",
    "\n",
    "best_params = study.best_params\n",
    "best_params.update(dict(random_state=SEED, n_jobs=-1))\n",
    "best_params\n"
   ]
  },
  {
   "cell_type": "code",
   "execution_count": 13,
   "id": "d1e97171",
   "metadata": {},
   "outputs": [
    {
     "name": "stdout",
     "output_type": "stream",
     "text": [
      "Best RF — R²=0.995 | MAE=0.000 | RMSE=0.001\n"
     ]
    }
   ],
   "source": [
    "rf_best = RandomForestRegressor(**best_params)\n",
    "rf_best.fit(X_train, y_train)\n",
    "pred_best = rf_best.predict(X_test)\n",
    "\n",
    "r2  = r2_score(y_test, pred_best)\n",
    "mae = mean_absolute_error(y_test, pred_best)\n",
    "rmse = mean_squared_error(y_test, pred_best, squared=False)\n",
    "\n",
    "print(f\"Best RF — R²={r2:.3f} | MAE={mae:.3f} | RMSE={rmse:.3f}\")\n"
   ]
  },
  {
   "cell_type": "markdown",
   "id": "5df6d7c2",
   "metadata": {},
   "source": [
    "# 4. <a id='toc4_'></a>Остатки и интерпретация\n"
   ]
  },
  {
   "cell_type": "code",
   "execution_count": 14,
   "id": "0e423467",
   "metadata": {},
   "outputs": [
    {
     "data": {
      "image/png": "[encoded data removed]",
      "text/plain": [
       "<Figure size 600x400 with 1 Axes>"
      ]
     },
     "metadata": {},
     "output_type": "display_data"
    }
   ],
   "source": [
    "plt.figure()\n",
    "sns.scatterplot(x=y_test, y=pred_best, alpha=0.35)\n",
    "mn, mx = min(y_test.min(), pred_best.min()), max(y_test.max(), pred_best.max())\n",
    "plt.plot([mn, mx], [mn, mx], linestyle=\"--\")\n",
    "plt.xlabel(\"Actual\"); plt.ylabel(\"Predicted\"); plt.title(\"Predicted vs Actual (RF)\")\n",
    "plt.show()\n"
   ]
  },
  {
   "cell_type": "code",
   "execution_count": 15,
   "id": "566568d3",
   "metadata": {},
   "outputs": [
    {
     "data": {
      "image/png": "[encoded data removed]",
      "text/plain": [
       "<Figure size 600x400 with 1 Axes>"
      ]
     },
     "metadata": {},
     "output_type": "display_data"
    }
   ],
   "source": [
    "resid = y_test - pred_best\n",
    "plt.figure()\n",
    "sns.scatterplot(x=pred_best, y=resid, alpha=0.35)\n",
    "plt.axhline(0, linestyle=\"--\")\n",
    "plt.xlabel(\"Predicted\"); plt.ylabel(\"Residuals\"); plt.title(\"Residuals vs Predicted (RF)\")\n",
    "plt.show()\n"
   ]
  },
  {
   "cell_type": "markdown",
   "id": "1169cf30",
   "metadata": {},
   "source": [
    "# 5. <a id='toc5_'></a>Выводы\n",
    "\n",
    "- Проведена загрузка, очистка и анализ данных портала.  \n",
    "- Целевая переменная — **Гармония Бессмертия**, задача — **регрессия**.  \n",
    "- После преобразований обучена модель **Random Forest**.  \n",
    "- Метрики качества (R², MAE, RMSE) показали удовлетворительные результаты.  \n",
    "- Анализ остатков подтвердил, что модель хорошо описывает диапазон средних значений, но немного занижает прогноз при высоких значениях гармонии.  \n",
    "- Следующие шаги: попробовать бустинг и дополнительные признаки из зависимостей (без использования целевой переменной).\n"
   ]
  }
 ],
 "metadata": {
  "kernelspec": {
   "display_name": "Python 3",
   "language": "python",
   "name": "python3"
  },
  "language_info": {
   "codemirror_mode": {
    "name": "ipython",
    "version": 3
   },
   "file_extension": ".py",
   "mimetype": "text/x-python",
   "name": "python",
   "nbconvert_exporter": "python",
   "pygments_lexer": "ipython3",
   "version": "3.10.11"
  }
 },
 "nbformat": 4,
 "nbformat_minor": 5
}
